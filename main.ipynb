{
 "cells": [
  {
   "cell_type": "code",
   "execution_count": 1,
   "metadata": {},
   "outputs": [],
   "source": [
    "import os, sys\n",
    "import numpy as np\n",
    "import tensorflow as tf\n",
    "\n",
    "N_SAMPLES = 100000000\n",
    "BATCH_SIZE = 512\n",
    "STEPS = N_SAMPLES // BATCH_SIZE\n",
    "\n",
    "tf.reset_default_graph()\n",
    "darts = tf.random_uniform((BATCH_SIZE, 2))\n",
    "counter = tf.reduce_sum(tf.cast(tf.less(tf.norm(darts, axis=1), 1), tf.int32))\n",
    "pi_estimate = counter * 4 / BATCH_SIZE\n",
    "pi_avg, pi_avg_update = tf.metrics.mean(pi_estimate)\n",
    "init = tf.local_variables_initializer()"
   ]
  },
  {
   "cell_type": "code",
   "execution_count": 2,
   "metadata": {},
   "outputs": [
    {
     "name": "stdout",
     "output_type": "stream",
     "text": [
      "3.1418724\n"
     ]
    }
   ],
   "source": [
    "sess_config = tf.ConfigProto(inter_op_parallelism_threads=2, intra_op_parallelism_threads=2)\n",
    "with tf.Session(config=sess_config) as sess:\n",
    "    sess.run(init)\n",
    "    for _ in range(STEPS):\n",
    "        sess.run([pi_estimate, pi_avg_update])\n",
    "    print(sess.run(pi_avg))"
   ]
  },
  {
   "cell_type": "code",
   "execution_count": null,
   "metadata": {},
   "outputs": [],
   "source": []
  }
 ],
 "metadata": {
  "kernelspec": {
   "display_name": "Python 3",
   "language": "python",
   "name": "python3"
  },
  "language_info": {
   "codemirror_mode": {
    "name": "ipython",
    "version": 3
   },
   "file_extension": ".py",
   "mimetype": "text/x-python",
   "name": "python",
   "nbconvert_exporter": "python",
   "pygments_lexer": "ipython3",
   "version": "3.6.7"
  }
 },
 "nbformat": 4,
 "nbformat_minor": 2
}
